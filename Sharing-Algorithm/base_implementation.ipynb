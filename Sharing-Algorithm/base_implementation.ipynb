{
 "cells": [
  {
   "cell_type": "code",
   "execution_count": 36,
   "metadata": {
    "collapsed": true
   },
   "outputs": [],
   "source": [
    "import numpy as np\n",
    "import pandas as pd\n",
    "from pprint import pprint\n",
    "from json import  dumps, dump"
   ]
  },
  {
   "cell_type": "markdown",
   "source": [
    "### Functions to maintain example database"
   ],
   "metadata": {
    "collapsed": false
   }
  },
  {
   "cell_type": "code",
   "execution_count": 57,
   "outputs": [],
   "source": [
    "# static variables (used for id's)\n",
    "p_id:int = 0  # person id\n",
    "g_id:int = 0  # group id\n",
    "t_id:int = 0  # transaction id\n",
    "\n",
    "# reset ids\n",
    "def reset_ids():\n",
    "    global p_id, g_id, t_id\n",
    "    p_id = 0\n",
    "    g_id = 0\n",
    "    t_id = 0\n",
    "\n",
    "# static collections\n",
    "people:dict = {}\n",
    "groups:dict = {}\n",
    "transactions:dict = {}\n",
    "items: dict = {}\n",
    "\n",
    "# reset collections\n",
    "def reset_collections():\n",
    "    global people, groups, transactions, items\n",
    "    people = {}\n",
    "    groups = {}\n",
    "    transactions = {}\n",
    "    items = {}\n",
    "\n",
    "def reset_db():\n",
    "    reset_ids()\n",
    "    reset_collections()\n",
    "\n",
    "# helper function to print out example databases\n",
    "def print_collections(name = 0):\n",
    "    if type(name) is int:\n",
    "        print(f'people:\\n{dumps(people)}')\n",
    "        print(f'groups:\\n{dumps(groups)}')\n",
    "        print(f'transactions:\\n{dumps(transactions)}')\n",
    "        print(f'items:\\n{dumps(items)}')\n",
    "        return\n",
    "    if type(name) is str:\n",
    "        name = [name]\n",
    "    if type(name) is list:\n",
    "        for i in name:\n",
    "            if i == 'people':\n",
    "                print(f'people:\\n{dumps(people)}')\n",
    "            elif i == 'groups':\n",
    "                print(f'groups:\\n{dumps(groups)}')\n",
    "            elif i == 'transactions':\n",
    "                print(f'transactions:\\n{dumps(transactions)}')\n",
    "            elif i == 'items':\n",
    "                print(f'items:\\n{dumps(items)}')\n"
   ],
   "metadata": {
    "collapsed": false,
    "pycharm": {
     "name": "#%%\n"
    }
   }
  },
  {
   "cell_type": "markdown",
   "source": [
    "### Functions to create database objects"
   ],
   "metadata": {
    "collapsed": false
   }
  },
  {
   "cell_type": "code",
   "execution_count": 134,
   "outputs": [],
   "source": [
    "# create a basic person object\n",
    "def create_person(first_name:str, last_name:str, email:str) -> dict:\n",
    "    global p_id, people\n",
    "    person = {\n",
    "        'id': p_id,\n",
    "        'first_name': first_name,\n",
    "        'last_name': last_name,\n",
    "        'email': email,\n",
    "        'groups': []\n",
    "    }\n",
    "    people[p_id] = person\n",
    "\n",
    "    p_id += 1\n",
    "    return person\n",
    "\n",
    "# create a basic group object\n",
    "def create_group(name:str) -> dict:\n",
    "    global g_id, groups\n",
    "    group = {\n",
    "        'id': g_id,\n",
    "        'name': name,\n",
    "        'people': [],\n",
    "        'transactions': []\n",
    "    }\n",
    "    groups[g_id] = group\n",
    "\n",
    "    g_id += 1\n",
    "    return group\n",
    "\n",
    "# create a basic transaction object\n",
    "def create_transaction(description:str, p_id:int, g_id:int) -> dict:\n",
    "    global t_id, transactions, groups\n",
    "\n",
    "    # add person to group\n",
    "    if g_id not in groups:\n",
    "        print(f'ERROR: group id [{g_id}] does not exist')\n",
    "        return None\n",
    "    # check if person exists\n",
    "    if p_id not in people:\n",
    "        print(f'ERROR: person id [{t_id}] does not exist')\n",
    "        return None\n",
    "    # check if person is in group\n",
    "    if p_id not in groups[g_id]['people']:\n",
    "        print(f'ERROR: person id [{p_id}] is not in group [{g_id}]')\n",
    "        return None\n",
    "\n",
    "    transaction = {\n",
    "        'id': t_id,\n",
    "        'group': g_id,\n",
    "        'purchaser': p_id,\n",
    "        'description': description,\n",
    "        'total_transaction_price': 0,\n",
    "        'items': []\n",
    "    }\n",
    "\n",
    "    # add transaction to transactions collection\n",
    "    transactions[t_id] = transaction\n",
    "\n",
    "    # add transactions to group\n",
    "    groups[g_id]['transactions'].append(t_id)\n",
    "    t_id += 1\n",
    "    return transaction\n",
    "\n",
    "# create item\n",
    "def create_item(description:str, price:float) -> dict:\n",
    "    global items\n",
    "\n",
    "\n",
    "    if price <= 0:\n",
    "        print(f'ERROR: price [{price}] should be greater than 0')\n",
    "        return None\n",
    "\n",
    "    i_id = hash(f\"{description},{price}\")\n",
    "    if i_id not in items:\n",
    "        item = {\n",
    "            'id': i_id,\n",
    "            'price': price,\n",
    "            'description': description,\n",
    "        }\n",
    "        items[i_id] = item\n",
    "    else:\n",
    "        item = items[i_id]\n",
    "    return item\n"
   ],
   "metadata": {
    "collapsed": false,
    "pycharm": {
     "name": "#%%\n"
    }
   }
  },
  {
   "cell_type": "code",
   "execution_count": 135,
   "outputs": [],
   "source": [
    "# getter methods\n",
    "\n",
    "# get person given their email\n",
    "def get_person(email:str) -> dict:\n",
    "    \"\"\"\n",
    "    SELECT * FROM people WHERE people.email = email;\n",
    "    \"\"\"\n",
    "    global people\n",
    "    for id, person in people.items():\n",
    "        if person['email'] == email:\n",
    "            return person\n",
    "    print(f'ERROR: email [{email}] does not exist')\n",
    "    return None\n",
    "\n"
   ],
   "metadata": {
    "collapsed": false,
    "pycharm": {
     "name": "#%%\n"
    }
   }
  },
  {
   "cell_type": "code",
   "execution_count": 136,
   "outputs": [],
   "source": [
    "# addition methods\n",
    "\n",
    "# add person to group\n",
    "def add_person_to_group(g_id:int, email:str):\n",
    "    # todo decide if this should be email or id or name, etc\n",
    "    global people, groups\n",
    "\n",
    "    # get persons id and check if they exist\n",
    "    person = get_person(email)\n",
    "    if person is None:\n",
    "        return\n",
    "    p_id = person['id']\n",
    "\n",
    "    # add person to group\n",
    "    if g_id not in groups:\n",
    "        print(f'ERROR: group id [{g_id}] does not exist')\n",
    "        return\n",
    "    groups[g_id]['people'].append(p_id)\n",
    "\n",
    "    # add group to person\n",
    "    people[p_id]['groups'].append(g_id)\n",
    "\n",
    "def add_item_to_transaction(t_id:int, i_id:int, p_id:int, quantity:int):\n",
    "    global transactions, items, people, groups\n",
    "    # check if item exists\n",
    "    if i_id not in items:\n",
    "        print(f'ERROR: item id [{i_id}] does not exist')\n",
    "        return\n",
    "    # check if transaction exists\n",
    "    if t_id not in transactions:\n",
    "        print(f'ERROR: transaction id [{t_id}] does not exist')\n",
    "        return\n",
    "    # check if person exists\n",
    "    if p_id not in people:\n",
    "        print(f'ERROR: person id [{p_id}] does not exist')\n",
    "        return\n",
    "    # check if person is in transaction's group\n",
    "    g_id = transactions[t_id]['group']\n",
    "    if p_id not in groups[g_id]['people']:\n",
    "        print(f'ERROR: person id [{p_id}] is not in group [{g_id}]')\n",
    "        return\n",
    "    # check quantity\n",
    "    if quantity <= 0:\n",
    "        print(f'ERROR: quantity [{quantity}] should be greater than 0')\n",
    "        return\n",
    "\n",
    "    total_item_price = quantity*items[i_id]['price']\n",
    "\n",
    "    # create item entry\n",
    "    item_entry = {\n",
    "        'person': p_id,\n",
    "        'item': i_id,\n",
    "        'quantity': quantity,\n",
    "        'total_item_price': total_item_price\n",
    "    }\n",
    "\n",
    "    # update transaction total price and add item to transaction\n",
    "    transactions[t_id]['total_transaction_price'] += total_item_price\n",
    "    transactions[t_id]['items'].append(item_entry)\n"
   ],
   "metadata": {
    "collapsed": false,
    "pycharm": {
     "name": "#%%\n"
    }
   }
  },
  {
   "cell_type": "code",
   "execution_count": 141,
   "outputs": [],
   "source": [
    "# Calculations\n",
    "def calculate_group_payout(g_id:int) -> dict:\n",
    "    global groups, transactions\n",
    "    # add person to group\n",
    "    if g_id not in groups:\n",
    "        print(f'ERROR: group id [{g_id}] does not exist')\n",
    "        return None\n",
    "    group = groups[g_id]\n",
    "\n",
    "    # initialize all owed to 0\n",
    "    payout = { person: 0 for person in group['people']}\n",
    "\n",
    "    #\n",
    "    for t_id in group['transactions']:\n",
    "        transaction = transactions[t_id]\n",
    "        purchaser = transaction['purchaser']\n",
    "        payout[purchaser] -= transaction['total_transaction_price']\n",
    "        for item in transaction['items']:\n",
    "            payout[item['person']] += item['total_item_price']\n",
    "\n",
    "    return payout"
   ],
   "metadata": {
    "collapsed": false,
    "pycharm": {
     "name": "#%%\n"
    }
   }
  },
  {
   "cell_type": "code",
   "execution_count": 142,
   "outputs": [
    {
     "name": "stdout",
     "output_type": "stream",
     "text": [
      "people:\n",
      "{\"0\": {\"id\": 0, \"first_name\": \"Hunter\", \"last_name\": \"Price\", \"email\": \"hprice7@vols.utk.edu\", \"groups\": []}, \"1\": {\"id\": 1, \"first_name\": \"Andrei\", \"last_name\": \"Cozma\", \"email\": \"acozma@vols.utk.edu\", \"groups\": []}, \"2\": {\"id\": 2, \"first_name\": \"Blake\", \"last_name\": \"Childress\", \"email\": \"cchildr3@vols.utk.edu\", \"groups\": []}, \"3\": {\"id\": 3, \"first_name\": \"Emanuel\", \"last_name\": \"Chavez\", \"email\": \"echavez2@vols.utk.edu\", \"groups\": []}, \"4\": {\"id\": 4, \"first_name\": \"Jacob\", \"last_name\": \"Leonard\", \"email\": \"jleona19@vols.utk.edu\", \"groups\": []}, \"5\": {\"id\": 5, \"first_name\": \"Lillian\", \"last_name\": \"Coar\", \"email\": \"wcoar@vols.utk.edu\", \"groups\": []}, \"6\": {\"id\": 6, \"first_name\": \"Tyler\", \"last_name\": \"Beichler\", \"email\": \"tbeichle@vols.utk.edu\", \"groups\": []}}\n",
      "--------------------------------------------------\n",
      "groups:\n",
      "{\"0\": {\"id\": 0, \"name\": \"group1\", \"people\": [], \"transactions\": []}, \"1\": {\"id\": 1, \"name\": \"group2\", \"people\": [], \"transactions\": []}, \"2\": {\"id\": 2, \"name\": \"group3\", \"people\": [], \"transactions\": []}, \"3\": {\"id\": 3, \"name\": \"group4\", \"people\": [], \"transactions\": []}}\n",
      "--------------------------------------------------\n",
      "people:\n",
      "{\"0\": {\"id\": 0, \"first_name\": \"Hunter\", \"last_name\": \"Price\", \"email\": \"hprice7@vols.utk.edu\", \"groups\": [0, 1, 2, 3]}, \"1\": {\"id\": 1, \"first_name\": \"Andrei\", \"last_name\": \"Cozma\", \"email\": \"acozma@vols.utk.edu\", \"groups\": [0, 3]}, \"2\": {\"id\": 2, \"first_name\": \"Blake\", \"last_name\": \"Childress\", \"email\": \"cchildr3@vols.utk.edu\", \"groups\": [0, 2, 3]}, \"3\": {\"id\": 3, \"first_name\": \"Emanuel\", \"last_name\": \"Chavez\", \"email\": \"echavez2@vols.utk.edu\", \"groups\": [0, 3]}, \"4\": {\"id\": 4, \"first_name\": \"Jacob\", \"last_name\": \"Leonard\", \"email\": \"jleona19@vols.utk.edu\", \"groups\": [2, 3]}, \"5\": {\"id\": 5, \"first_name\": \"Lillian\", \"last_name\": \"Coar\", \"email\": \"wcoar@vols.utk.edu\", \"groups\": [1, 3]}, \"6\": {\"id\": 6, \"first_name\": \"Tyler\", \"last_name\": \"Beichler\", \"email\": \"tbeichle@vols.utk.edu\", \"groups\": [3]}}\n",
      "groups:\n",
      "{\"0\": {\"id\": 0, \"name\": \"group1\", \"people\": [0, 1, 2, 3], \"transactions\": []}, \"1\": {\"id\": 1, \"name\": \"group2\", \"people\": [0, 5], \"transactions\": []}, \"2\": {\"id\": 2, \"name\": \"group3\", \"people\": [0, 4, 2], \"transactions\": []}, \"3\": {\"id\": 3, \"name\": \"group4\", \"people\": [0, 1, 2, 3, 4, 5, 6], \"transactions\": []}}\n",
      "--------------------------------------------------\n",
      "groups:\n",
      "{\"0\": {\"id\": 0, \"name\": \"group1\", \"people\": [0, 1, 2, 3], \"transactions\": [0]}, \"1\": {\"id\": 1, \"name\": \"group2\", \"people\": [0, 5], \"transactions\": []}, \"2\": {\"id\": 2, \"name\": \"group3\", \"people\": [0, 4, 2], \"transactions\": []}, \"3\": {\"id\": 3, \"name\": \"group4\", \"people\": [0, 1, 2, 3, 4, 5, 6], \"transactions\": [1, 2]}}\n",
      "transactions:\n",
      "{\"0\": {\"id\": 0, \"group\": 0, \"purchaser\": 0, \"description\": \"Grocery Store1\", \"total_transaction_price\": 54.93, \"items\": [{\"person\": 0, \"item\": -7907163219070685815, \"quantity\": 3, \"total_item_price\": 20.97}, {\"person\": 1, \"item\": 1692916694449078586, \"quantity\": 1, \"total_item_price\": 9.99}, {\"person\": 1, \"item\": -2181840012712191319, \"quantity\": 2, \"total_item_price\": 7.98}, {\"person\": 2, \"item\": 8811357968849978125, \"quantity\": 1, \"total_item_price\": 15.99}]}, \"1\": {\"id\": 1, \"group\": 3, \"purchaser\": 5, \"description\": \"Grocery Store2\", \"total_transaction_price\": 75.94, \"items\": [{\"person\": 0, \"item\": 1692916694449078586, \"quantity\": 4, \"total_item_price\": 39.96}, {\"person\": 4, \"item\": 8811357968849978125, \"quantity\": 1, \"total_item_price\": 15.99}, {\"person\": 6, \"item\": 1681768812122768163, \"quantity\": 1, \"total_item_price\": 19.99}]}, \"2\": {\"id\": 2, \"group\": 3, \"purchaser\": 1, \"description\": \"Grocery Store3\", \"total_transaction_price\": 13.98, \"items\": [{\"person\": 3, \"item\": -7907163219070685815, \"quantity\": 1, \"total_item_price\": 6.99}, {\"person\": 1, \"item\": -7907163219070685815, \"quantity\": 1, \"total_item_price\": 6.99}]}}\n",
      "items:\n",
      "{\"-7907163219070685815\": {\"id\": -7907163219070685815, \"price\": 6.99, \"description\": \"Milk\"}, \"1692916694449078586\": {\"id\": 1692916694449078586, \"price\": 9.99, \"description\": \"Eggs\"}, \"-2181840012712191319\": {\"id\": -2181840012712191319, \"price\": 3.99, \"description\": \"Cheese\"}, \"8811357968849978125\": {\"id\": 8811357968849978125, \"price\": 15.99, \"description\": \"Bacon\"}, \"1681768812122768163\": {\"id\": 1681768812122768163, \"price\": 19.99, \"description\": \"Paper Towels\"}}\n",
      "--------------------------------------------------\n"
     ]
    }
   ],
   "source": [
    "# Clear DB\n",
    "reset_db()\n",
    "\n",
    "# Create some people\n",
    "hunter  = create_person('Hunter', 'Price', 'hprice7@vols.utk.edu')\n",
    "andrei  = create_person('Andrei', 'Cozma', 'acozma@vols.utk.edu')\n",
    "blake   = create_person('Blake', 'Childress', 'cchildr3@vols.utk.edu')\n",
    "emanuel = create_person('Emanuel', 'Chavez', 'echavez2@vols.utk.edu')\n",
    "jacob   = create_person('Jacob', 'Leonard', 'jleona19@vols.utk.edu')\n",
    "lillian = create_person('Lillian', 'Coar', 'wcoar@vols.utk.edu')\n",
    "tyler   = create_person('Tyler', 'Beichler', 'tbeichle@vols.utk.edu')\n",
    "print_collections(['people'])\n",
    "print('-'*50)\n",
    "\n",
    "# Create some groups\n",
    "group1 = create_group('group1')\n",
    "group2 = create_group('group2')\n",
    "group3 = create_group('group3')\n",
    "group4 = create_group('group4')\n",
    "print_collections(['groups'])\n",
    "print('-'*50)\n",
    "\n",
    "# Add people to groups\n",
    "add_person_to_group(group1['id'], hunter['email'])\n",
    "add_person_to_group(group1['id'], andrei['email'])\n",
    "add_person_to_group(group1['id'], blake['email'])\n",
    "add_person_to_group(group1['id'], emanuel['email'])\n",
    "\n",
    "add_person_to_group(group2['id'], hunter['email'])\n",
    "add_person_to_group(group2['id'], lillian['email'])\n",
    "\n",
    "add_person_to_group(group3['id'], hunter['email'])\n",
    "add_person_to_group(group3['id'], jacob['email'])\n",
    "add_person_to_group(group3['id'], blake['email'])\n",
    "\n",
    "add_person_to_group(group4['id'], hunter['email'])\n",
    "add_person_to_group(group4['id'], andrei['email'])\n",
    "add_person_to_group(group4['id'], blake['email'])\n",
    "add_person_to_group(group4['id'], emanuel['email'])\n",
    "add_person_to_group(group4['id'], jacob['email'])\n",
    "add_person_to_group(group4['id'], lillian['email'])\n",
    "add_person_to_group(group4['id'], tyler['email'])\n",
    "print_collections(['people', 'groups'])\n",
    "print('-'*50)\n",
    "\n",
    "# create some transactions\n",
    "t1 = create_transaction('Grocery Store1', hunter['id'], group1['id'])\n",
    "t2 = create_transaction('Grocery Store2', lillian['id'], group4['id'])\n",
    "t3 = create_transaction('Grocery Store3', andrei['id'], group4['id'])\n",
    "\n",
    "# create some items\n",
    "i1 = create_item('Milk', 6.99)\n",
    "i2 = create_item('Eggs', 9.99)\n",
    "i3 = create_item('Cheese', 3.99)\n",
    "i4 = create_item('Bacon', 15.99)\n",
    "i5 = create_item('Paper Towels', 19.99)\n",
    "\n",
    "# connect items to transactions\n",
    "add_item_to_transaction(t1['id'],i1['id'],hunter['id'], 3)\n",
    "add_item_to_transaction(t1['id'],i2['id'],andrei['id'], 1)\n",
    "add_item_to_transaction(t1['id'],i3['id'],andrei['id'], 2)\n",
    "add_item_to_transaction(t1['id'],i4['id'],blake['id'], 1)\n",
    "\n",
    "add_item_to_transaction(t2['id'],i2['id'],hunter['id'], 4)\n",
    "add_item_to_transaction(t2['id'],i4['id'],jacob['id'], 1)\n",
    "add_item_to_transaction(t2['id'],i5['id'],tyler['id'], 1)\n",
    "\n",
    "add_item_to_transaction(t3['id'],i1['id'],emanuel['id'], 1)\n",
    "add_item_to_transaction(t3['id'],i1['id'],andrei['id'], 1)\n",
    "\n",
    "print_collections(['groups','transactions', 'items'])\n",
    "print('-'*50)"
   ],
   "metadata": {
    "collapsed": false,
    "pycharm": {
     "name": "#%%\n"
    }
   }
  },
  {
   "cell_type": "code",
   "execution_count": 143,
   "outputs": [
    {
     "name": "stdout",
     "output_type": "stream",
     "text": [
      "{0: 39.96, 1: -6.99, 2: 0, 3: 6.99, 4: 15.99, 5: -75.94, 6: 19.99}\n"
     ]
    }
   ],
   "source": [
    "payout = calculate_group_payout(group4['id'])\n",
    "pprint(payout)"
   ],
   "metadata": {
    "collapsed": false,
    "pycharm": {
     "name": "#%%\n"
    }
   }
  },
  {
   "cell_type": "code",
   "execution_count": null,
   "outputs": [],
   "source": [],
   "metadata": {
    "collapsed": false,
    "pycharm": {
     "name": "#%%\n"
    }
   }
  }
 ],
 "metadata": {
  "kernelspec": {
   "display_name": "Python 3",
   "language": "python",
   "name": "python3"
  },
  "language_info": {
   "codemirror_mode": {
    "name": "ipython",
    "version": 2
   },
   "file_extension": ".py",
   "mimetype": "text/x-python",
   "name": "python",
   "nbconvert_exporter": "python",
   "pygments_lexer": "ipython2",
   "version": "2.7.6"
  }
 },
 "nbformat": 4,
 "nbformat_minor": 0
}