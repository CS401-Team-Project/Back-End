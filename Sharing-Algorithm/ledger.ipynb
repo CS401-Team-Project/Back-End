{
 "cells": [
  {
   "cell_type": "code",
   "execution_count": 1,
   "outputs": [
    {
     "name": "stdout",
     "output_type": "stream",
     "text": [
      "{'balances': {'person1': {'person2': 0, 'person3': 0},\n",
      "              'person2': {'person1': 0, 'person3': 0},\n",
      "              'person3': {'person1': 0, 'person2': 0}},\n",
      " 'ledger': {'person1': 0, 'person2': 0, 'person3': 0},\n",
      " 'people': {'person1': {'name': 'person1'},\n",
      "            'person2': {'name': 'person2'},\n",
      "            'person3': {'name': 'person3'}},\n",
      " 'transactions': {}}\n"
     ]
    }
   ],
   "source": [
    "from pprint import pprint\n",
    "import copy\n",
    "\n",
    "i = 0\n",
    "group = {}\n",
    "\n",
    "def reset():\n",
    "    global i\n",
    "    i = 0\n",
    "    createGroup()\n",
    "\n",
    "def addPerson(name):\n",
    "    group['balances'][name] = {}\n",
    "\n",
    "    # link people\n",
    "    for p in group['people']:\n",
    "        group['balances'][name][p] = 0\n",
    "        group['balances'][p][name] = 0\n",
    "\n",
    "    group['ledger'][name] = 0\n",
    "    # add person to group\n",
    "    group['people'][name] = {'name': name}\n",
    "\n",
    "def createGroup():\n",
    "    # clear shit\n",
    "    group.clear()\n",
    "\n",
    "    # setup group\n",
    "    group['ledger'] = {}\n",
    "    group['balances'] = {}\n",
    "    group['people'] = {}\n",
    "    group['transactions'] = {}\n",
    "    addPerson(\"person1\")\n",
    "    addPerson(\"person2\")\n",
    "    addPerson(\"person3\")\n",
    "\n",
    "createGroup()\n",
    "pprint(group)"
   ],
   "metadata": {
    "collapsed": false,
    "pycharm": {
     "name": "#%%\n"
    }
   }
  },
  {
   "cell_type": "code",
   "execution_count": 152,
   "outputs": [],
   "source": [
    "def add_transaction(who_got_how_much, who_paid_how_much):\n",
    "    global i\n",
    "    paid_total = sum(who_paid_how_much.values())\n",
    "    used_total = sum(who_got_how_much.values())\n",
    "    assert paid_total == used_total\n",
    "\n",
    "    ledger_deltas = {}\n",
    "    people_involved = set(who_got_how_much.keys()).union(set(who_paid_how_much.keys()))\n",
    "    for p in people_involved:\n",
    "        # update ledger\n",
    "        used, paid = 0, 0\n",
    "        if p in who_got_how_much:\n",
    "            used = who_got_how_much[p]\n",
    "        if p in who_paid_how_much:\n",
    "            paid = who_paid_how_much[p]\n",
    "        ledger_deltas[p] = paid - used\n",
    "\n",
    "    # update ledger\n",
    "    for k, v in ledger_deltas.items():\n",
    "        group['ledger'][k] += v\n",
    "\n",
    "    transaction = {'id': i, 'who_used': who_got_how_much.copy(), 'who_paid': who_paid_how_much.copy()}\n",
    "\n",
    "    # init deltas\n",
    "    balance_deltas = {}\n",
    "    for p1 in people_involved:\n",
    "        balance_deltas[p1] = {}\n",
    "        for p2 in people_involved:\n",
    "            if p1 != p2:\n",
    "                balance_deltas[p1][p2] = 0\n",
    "\n",
    "    # calc deltas and transactions\n",
    "    for p_paid in who_paid_how_much.keys():\n",
    "        paid = ledger_deltas[p_paid]\n",
    "        # calculate how much if any this person has pair\n",
    "        if p_paid in who_got_how_much:\n",
    "            paid -= who_got_how_much[p_paid]\n",
    "        for p_used in who_got_how_much.keys():\n",
    "            # if the person that paid is not the same as the person that used\n",
    "            if p_paid != p_used:\n",
    "                if ledger_deltas[p_used] < 0 :\n",
    "                    # if the amount paid is greater than the amount used\n",
    "                    if ledger_deltas[p_used] + paid > 0:\n",
    "                        group['balances'][p_paid][p_used] -= ledger_deltas[p_used]\n",
    "                        group['balances'][p_used][p_paid] += ledger_deltas[p_used]\n",
    "                        balance_deltas[p_paid][p_used] -= ledger_deltas[p_used]\n",
    "                        balance_deltas[p_used][p_paid] += ledger_deltas[p_used]\n",
    "                    # if the amount paid is equal to or less than the amount used\n",
    "                    else:\n",
    "                        paid = paid if paid > 0 else -paid\n",
    "                        group['balances'][p_paid][p_used] += paid\n",
    "                        group['balances'][p_used][p_paid] -= paid\n",
    "                        balance_deltas[p_paid][p_used] += paid\n",
    "                        balance_deltas[p_used][p_paid] -= paid\n",
    "\n",
    "    # save deltas in transaction for later\n",
    "    transaction['balance_deltas'] = balance_deltas\n",
    "    transaction['ledger_deltas'] = ledger_deltas\n",
    "\n",
    "    # save transaction\n",
    "    group['transactions'][i] = transaction\n",
    "    i += 1\n",
    "    pprint(group)\n",
    "\n",
    "    return transaction\n",
    "\n",
    "\n"
   ],
   "metadata": {
    "collapsed": false,
    "pycharm": {
     "name": "#%%\n"
    }
   }
  },
  {
   "cell_type": "code",
   "execution_count": 129,
   "outputs": [
    {
     "name": "stdout",
     "output_type": "stream",
     "text": [
      "deltas\n",
      "{'person1': {}}\n",
      "{'balances': {'person1': {'person2': 0, 'person3': 0},\n",
      "              'person2': {'person1': 0, 'person3': 0},\n",
      "              'person3': {'person1': 0, 'person2': 0}},\n",
      " 'ledger': {'person1': 0, 'person2': 0, 'person3': 0},\n",
      " 'people': {'person1': {'name': 'person1'},\n",
      "            'person2': {'name': 'person2'},\n",
      "            'person3': {'name': 'person3'}},\n",
      " 'transactions': {0: {'deltas': {'person1': {}},\n",
      "                      'id': 0,\n",
      "                      'who_paid': {'person1': 20},\n",
      "                      'who_used': {'person1': 20}}}}\n"
     ]
    }
   ],
   "source": [
    "reset()\n",
    "t1 = add_transaction(who_got_how_much={\n",
    "    'person1': 20,\n",
    "}, who_paid_how_much={\n",
    "    'person1': 20,\n",
    "})\n"
   ],
   "metadata": {
    "collapsed": false,
    "pycharm": {
     "name": "#%%\n"
    }
   }
  },
  {
   "cell_type": "code",
   "execution_count": 130,
   "outputs": [
    {
     "name": "stdout",
     "output_type": "stream",
     "text": [
      "deltas\n",
      "{'person1': {'person2': -20}, 'person2': {'person1': 20}}\n",
      "{'balances': {'person1': {'person2': -20, 'person3': 0},\n",
      "              'person2': {'person1': 20, 'person3': 0},\n",
      "              'person3': {'person1': 0, 'person2': 0}},\n",
      " 'ledger': {'person1': -20, 'person2': 20, 'person3': 0},\n",
      " 'people': {'person1': {'name': 'person1'},\n",
      "            'person2': {'name': 'person2'},\n",
      "            'person3': {'name': 'person3'}},\n",
      " 'transactions': {0: {'deltas': {'person1': {}},\n",
      "                      'id': 0,\n",
      "                      'who_paid': {'person1': 20},\n",
      "                      'who_used': {'person1': 20}},\n",
      "                  1: {'deltas': {'person1': {'person2': -20},\n",
      "                                 'person2': {'person1': 20}},\n",
      "                      'id': 1,\n",
      "                      'who_paid': {'person2': 20},\n",
      "                      'who_used': {'person1': 20}}}}\n"
     ]
    }
   ],
   "source": [
    "t2 = add_transaction(who_got_how_much={\n",
    "    'person1': 20,\n",
    "}, who_paid_how_much={\n",
    "    'person2': 20,\n",
    "})"
   ],
   "metadata": {
    "collapsed": false,
    "pycharm": {
     "name": "#%%\n"
    }
   }
  },
  {
   "cell_type": "code",
   "execution_count": 131,
   "outputs": [
    {
     "name": "stdout",
     "output_type": "stream",
     "text": [
      "deltas\n",
      "{'person1': {'person2': 20}, 'person2': {'person1': -20}}\n",
      "{'balances': {'person1': {'person2': 0, 'person3': 0},\n",
      "              'person2': {'person1': 0, 'person3': 0},\n",
      "              'person3': {'person1': 0, 'person2': 0}},\n",
      " 'ledger': {'person1': 0, 'person2': 0, 'person3': 0},\n",
      " 'people': {'person1': {'name': 'person1'},\n",
      "            'person2': {'name': 'person2'},\n",
      "            'person3': {'name': 'person3'}},\n",
      " 'transactions': {0: {'deltas': {'person1': {}},\n",
      "                      'id': 0,\n",
      "                      'who_paid': {'person1': 20},\n",
      "                      'who_used': {'person1': 20}},\n",
      "                  1: {'deltas': {'person1': {'person2': -20},\n",
      "                                 'person2': {'person1': 20}},\n",
      "                      'id': 1,\n",
      "                      'who_paid': {'person2': 20},\n",
      "                      'who_used': {'person1': 20}},\n",
      "                  2: {'deltas': {'person1': {'person2': 20},\n",
      "                                 'person2': {'person1': -20}},\n",
      "                      'id': 2,\n",
      "                      'who_paid': {'person1': 20},\n",
      "                      'who_used': {'person2': 20}}}}\n"
     ]
    }
   ],
   "source": [
    "t2 = add_transaction(who_got_how_much={\n",
    "    'person2': 20,\n",
    "}, who_paid_how_much={\n",
    "    'person1': 20,\n",
    "})"
   ],
   "metadata": {
    "collapsed": false,
    "pycharm": {
     "name": "#%%\n"
    }
   }
  },
  {
   "cell_type": "code",
   "execution_count": 132,
   "outputs": [
    {
     "name": "stdout",
     "output_type": "stream",
     "text": [
      "deltas\n",
      "{'person1': {'person2': -10, 'person3': -10},\n",
      " 'person2': {'person1': 10, 'person3': 0},\n",
      " 'person3': {'person1': 10, 'person2': 0}}\n",
      "{'balances': {'person1': {'person2': -10, 'person3': -10},\n",
      "              'person2': {'person1': 10, 'person3': 0},\n",
      "              'person3': {'person1': 10, 'person2': 0}},\n",
      " 'ledger': {'person1': -20, 'person2': 10, 'person3': 10},\n",
      " 'people': {'person1': {'name': 'person1'},\n",
      "            'person2': {'name': 'person2'},\n",
      "            'person3': {'name': 'person3'}},\n",
      " 'transactions': {0: {'deltas': {'person1': {}},\n",
      "                      'id': 0,\n",
      "                      'who_paid': {'person1': 20},\n",
      "                      'who_used': {'person1': 20}},\n",
      "                  1: {'deltas': {'person1': {'person2': -20},\n",
      "                                 'person2': {'person1': 20}},\n",
      "                      'id': 1,\n",
      "                      'who_paid': {'person2': 20},\n",
      "                      'who_used': {'person1': 20}},\n",
      "                  2: {'deltas': {'person1': {'person2': 20},\n",
      "                                 'person2': {'person1': -20}},\n",
      "                      'id': 2,\n",
      "                      'who_paid': {'person1': 20},\n",
      "                      'who_used': {'person2': 20}},\n",
      "                  3: {'deltas': {'person1': {'person2': -10, 'person3': -10},\n",
      "                                 'person2': {'person1': 10, 'person3': 0},\n",
      "                                 'person3': {'person1': 10, 'person2': 0}},\n",
      "                      'id': 3,\n",
      "                      'who_paid': {'person2': 10, 'person3': 10},\n",
      "                      'who_used': {'person1': 20}}}}\n"
     ]
    }
   ],
   "source": [
    "t3 = add_transaction(who_got_how_much={\n",
    "    'person1': 20,\n",
    "}, who_paid_how_much={\n",
    "    'person2': 10,\n",
    "    'person3': 10,\n",
    "})"
   ],
   "metadata": {
    "collapsed": false,
    "pycharm": {
     "name": "#%%\n"
    }
   }
  },
  {
   "cell_type": "code",
   "execution_count": 133,
   "outputs": [
    {
     "name": "stdout",
     "output_type": "stream",
     "text": [
      "deltas\n",
      "{'person1': {'person2': 10, 'person3': 10},\n",
      " 'person2': {'person1': -10, 'person3': 0},\n",
      " 'person3': {'person1': -10, 'person2': 0}}\n",
      "{'balances': {'person1': {'person2': 0, 'person3': 0},\n",
      "              'person2': {'person1': 0, 'person3': 0},\n",
      "              'person3': {'person1': 0, 'person2': 0}},\n",
      " 'ledger': {'person1': 0, 'person2': 0, 'person3': 0},\n",
      " 'people': {'person1': {'name': 'person1'},\n",
      "            'person2': {'name': 'person2'},\n",
      "            'person3': {'name': 'person3'}},\n",
      " 'transactions': {0: {'deltas': {'person1': {}},\n",
      "                      'id': 0,\n",
      "                      'who_paid': {'person1': 20},\n",
      "                      'who_used': {'person1': 20}},\n",
      "                  1: {'deltas': {'person1': {'person2': -20},\n",
      "                                 'person2': {'person1': 20}},\n",
      "                      'id': 1,\n",
      "                      'who_paid': {'person2': 20},\n",
      "                      'who_used': {'person1': 20}},\n",
      "                  2: {'deltas': {'person1': {'person2': 20},\n",
      "                                 'person2': {'person1': -20}},\n",
      "                      'id': 2,\n",
      "                      'who_paid': {'person1': 20},\n",
      "                      'who_used': {'person2': 20}},\n",
      "                  3: {'deltas': {'person1': {'person2': -10, 'person3': -10},\n",
      "                                 'person2': {'person1': 10, 'person3': 0},\n",
      "                                 'person3': {'person1': 10, 'person2': 0}},\n",
      "                      'id': 3,\n",
      "                      'who_paid': {'person2': 10, 'person3': 10},\n",
      "                      'who_used': {'person1': 20}},\n",
      "                  4: {'deltas': {'person1': {'person2': 10, 'person3': 10},\n",
      "                                 'person2': {'person1': -10, 'person3': 0},\n",
      "                                 'person3': {'person1': -10, 'person2': 0}},\n",
      "                      'id': 4,\n",
      "                      'who_paid': {'person1': 20},\n",
      "                      'who_used': {'person2': 10, 'person3': 10}}}}\n"
     ]
    }
   ],
   "source": [
    "t4 = add_transaction(who_got_how_much={\n",
    "    'person2': 10,\n",
    "    'person3': 10,\n",
    "}, who_paid_how_much={\n",
    "    'person1': 20,\n",
    "})"
   ],
   "metadata": {
    "collapsed": false,
    "pycharm": {
     "name": "#%%\n"
    }
   }
  },
  {
   "cell_type": "code",
   "execution_count": 134,
   "outputs": [
    {
     "name": "stdout",
     "output_type": "stream",
     "text": [
      "deltas\n",
      "{'person2': {}}\n",
      "{'balances': {'person1': {'person2': 0, 'person3': 0},\n",
      "              'person2': {'person1': 0, 'person3': 0},\n",
      "              'person3': {'person1': 0, 'person2': 0}},\n",
      " 'ledger': {'person1': 0, 'person2': 0, 'person3': 0},\n",
      " 'people': {'person1': {'name': 'person1'},\n",
      "            'person2': {'name': 'person2'},\n",
      "            'person3': {'name': 'person3'}},\n",
      " 'transactions': {0: {'deltas': {'person1': {}},\n",
      "                      'id': 0,\n",
      "                      'who_paid': {'person1': 20},\n",
      "                      'who_used': {'person1': 20}},\n",
      "                  1: {'deltas': {'person1': {'person2': -20},\n",
      "                                 'person2': {'person1': 20}},\n",
      "                      'id': 1,\n",
      "                      'who_paid': {'person2': 20},\n",
      "                      'who_used': {'person1': 20}},\n",
      "                  2: {'deltas': {'person1': {'person2': 20},\n",
      "                                 'person2': {'person1': -20}},\n",
      "                      'id': 2,\n",
      "                      'who_paid': {'person1': 20},\n",
      "                      'who_used': {'person2': 20}},\n",
      "                  3: {'deltas': {'person1': {'person2': -10, 'person3': -10},\n",
      "                                 'person2': {'person1': 10, 'person3': 0},\n",
      "                                 'person3': {'person1': 10, 'person2': 0}},\n",
      "                      'id': 3,\n",
      "                      'who_paid': {'person2': 10, 'person3': 10},\n",
      "                      'who_used': {'person1': 20}},\n",
      "                  4: {'deltas': {'person1': {'person2': 10, 'person3': 10},\n",
      "                                 'person2': {'person1': -10, 'person3': 0},\n",
      "                                 'person3': {'person1': -10, 'person2': 0}},\n",
      "                      'id': 4,\n",
      "                      'who_paid': {'person1': 20},\n",
      "                      'who_used': {'person2': 10, 'person3': 10}},\n",
      "                  5: {'deltas': {'person2': {}},\n",
      "                      'id': 5,\n",
      "                      'who_paid': {'person2': 30},\n",
      "                      'who_used': {'person2': 30}}}}\n"
     ]
    }
   ],
   "source": [
    "t5 = add_transaction(who_got_how_much={\n",
    "    'person2': 30,\n",
    "}, who_paid_how_much={\n",
    "    'person2': 30,\n",
    "})"
   ],
   "metadata": {
    "collapsed": false,
    "pycharm": {
     "name": "#%%\n"
    }
   }
  },
  {
   "cell_type": "code",
   "execution_count": 135,
   "outputs": [
    {
     "name": "stdout",
     "output_type": "stream",
     "text": [
      "deltas\n",
      "{'person2': {'person3': 0}, 'person3': {'person2': 0}}\n",
      "{'balances': {'person1': {'person2': 0, 'person3': 0},\n",
      "              'person2': {'person1': 0, 'person3': 0},\n",
      "              'person3': {'person1': 0, 'person2': 0}},\n",
      " 'ledger': {'person1': 0, 'person2': 0, 'person3': 0},\n",
      " 'people': {'person1': {'name': 'person1'},\n",
      "            'person2': {'name': 'person2'},\n",
      "            'person3': {'name': 'person3'}},\n",
      " 'transactions': {0: {'deltas': {'person1': {}},\n",
      "                      'id': 0,\n",
      "                      'who_paid': {'person1': 20},\n",
      "                      'who_used': {'person1': 20}},\n",
      "                  1: {'deltas': {'person1': {'person2': -20},\n",
      "                                 'person2': {'person1': 20}},\n",
      "                      'id': 1,\n",
      "                      'who_paid': {'person2': 20},\n",
      "                      'who_used': {'person1': 20}},\n",
      "                  2: {'deltas': {'person1': {'person2': 20},\n",
      "                                 'person2': {'person1': -20}},\n",
      "                      'id': 2,\n",
      "                      'who_paid': {'person1': 20},\n",
      "                      'who_used': {'person2': 20}},\n",
      "                  3: {'deltas': {'person1': {'person2': -10, 'person3': -10},\n",
      "                                 'person2': {'person1': 10, 'person3': 0},\n",
      "                                 'person3': {'person1': 10, 'person2': 0}},\n",
      "                      'id': 3,\n",
      "                      'who_paid': {'person2': 10, 'person3': 10},\n",
      "                      'who_used': {'person1': 20}},\n",
      "                  4: {'deltas': {'person1': {'person2': 10, 'person3': 10},\n",
      "                                 'person2': {'person1': -10, 'person3': 0},\n",
      "                                 'person3': {'person1': -10, 'person2': 0}},\n",
      "                      'id': 4,\n",
      "                      'who_paid': {'person1': 20},\n",
      "                      'who_used': {'person2': 10, 'person3': 10}},\n",
      "                  5: {'deltas': {'person2': {}},\n",
      "                      'id': 5,\n",
      "                      'who_paid': {'person2': 30},\n",
      "                      'who_used': {'person2': 30}},\n",
      "                  6: {'deltas': {'person2': {'person3': 0},\n",
      "                                 'person3': {'person2': 0}},\n",
      "                      'id': 6,\n",
      "                      'who_paid': {'person2': 30, 'person3': 30},\n",
      "                      'who_used': {'person2': 30, 'person3': 30}}}}\n"
     ]
    }
   ],
   "source": [
    "t5 = add_transaction(who_got_how_much={\n",
    "    'person2': 30,\n",
    "    'person3': 30,\n",
    "}, who_paid_how_much={\n",
    "    'person2': 30,\n",
    "    'person3': 30,\n",
    "})"
   ],
   "metadata": {
    "collapsed": false,
    "pycharm": {
     "name": "#%%\n"
    }
   }
  },
  {
   "cell_type": "code",
   "execution_count": 136,
   "outputs": [
    {
     "name": "stdout",
     "output_type": "stream",
     "text": [
      "deltas\n",
      "{'person2': {'person3': 10}, 'person3': {'person2': -10}}\n",
      "{'balances': {'person1': {'person2': 0, 'person3': 0},\n",
      "              'person2': {'person1': 0, 'person3': 10},\n",
      "              'person3': {'person1': 0, 'person2': -10}},\n",
      " 'ledger': {'person1': 0, 'person2': 10, 'person3': -10},\n",
      " 'people': {'person1': {'name': 'person1'},\n",
      "            'person2': {'name': 'person2'},\n",
      "            'person3': {'name': 'person3'}},\n",
      " 'transactions': {0: {'deltas': {'person1': {}},\n",
      "                      'id': 0,\n",
      "                      'who_paid': {'person1': 20},\n",
      "                      'who_used': {'person1': 20}},\n",
      "                  1: {'deltas': {'person1': {'person2': -20},\n",
      "                                 'person2': {'person1': 20}},\n",
      "                      'id': 1,\n",
      "                      'who_paid': {'person2': 20},\n",
      "                      'who_used': {'person1': 20}},\n",
      "                  2: {'deltas': {'person1': {'person2': 20},\n",
      "                                 'person2': {'person1': -20}},\n",
      "                      'id': 2,\n",
      "                      'who_paid': {'person1': 20},\n",
      "                      'who_used': {'person2': 20}},\n",
      "                  3: {'deltas': {'person1': {'person2': -10, 'person3': -10},\n",
      "                                 'person2': {'person1': 10, 'person3': 0},\n",
      "                                 'person3': {'person1': 10, 'person2': 0}},\n",
      "                      'id': 3,\n",
      "                      'who_paid': {'person2': 10, 'person3': 10},\n",
      "                      'who_used': {'person1': 20}},\n",
      "                  4: {'deltas': {'person1': {'person2': 10, 'person3': 10},\n",
      "                                 'person2': {'person1': -10, 'person3': 0},\n",
      "                                 'person3': {'person1': -10, 'person2': 0}},\n",
      "                      'id': 4,\n",
      "                      'who_paid': {'person1': 20},\n",
      "                      'who_used': {'person2': 10, 'person3': 10}},\n",
      "                  5: {'deltas': {'person2': {}},\n",
      "                      'id': 5,\n",
      "                      'who_paid': {'person2': 30},\n",
      "                      'who_used': {'person2': 30}},\n",
      "                  6: {'deltas': {'person2': {'person3': 0},\n",
      "                                 'person3': {'person2': 0}},\n",
      "                      'id': 6,\n",
      "                      'who_paid': {'person2': 30, 'person3': 30},\n",
      "                      'who_used': {'person2': 30, 'person3': 30}},\n",
      "                  7: {'deltas': {'person2': {'person3': 10},\n",
      "                                 'person3': {'person2': -10}},\n",
      "                      'id': 7,\n",
      "                      'who_paid': {'person2': 30, 'person3': 30},\n",
      "                      'who_used': {'person2': 20, 'person3': 40}}}}\n"
     ]
    }
   ],
   "source": [
    "t6 = add_transaction(who_got_how_much={\n",
    "    'person2': 20,\n",
    "    'person3': 40,\n",
    "}, who_paid_how_much={\n",
    "    'person2': 30,\n",
    "    'person3': 30,\n",
    "})"
   ],
   "metadata": {
    "collapsed": false,
    "pycharm": {
     "name": "#%%\n"
    }
   }
  },
  {
   "cell_type": "code",
   "execution_count": 156,
   "outputs": [
    {
     "name": "stdout",
     "output_type": "stream",
     "text": [
      "{'balances': {'person1': {'person2': 0, 'person3': 0},\n",
      "              'person2': {'person1': 0, 'person3': -20},\n",
      "              'person3': {'person1': 0, 'person2': 20}},\n",
      " 'ledger': {'person1': 0, 'person2': -20, 'person3': 20},\n",
      " 'people': {'person1': {'name': 'person1'},\n",
      "            'person2': {'name': 'person2'},\n",
      "            'person3': {'name': 'person3'}},\n",
      " 'transactions': {0: {'balance_deltas': {'person2': {'person3': -10},\n",
      "                                         'person3': {'person2': 10}},\n",
      "                      'id': 0,\n",
      "                      'ledger_deltas': {'person2': -10, 'person3': 10},\n",
      "                      'who_paid': {'person2': 30, 'person3': 30},\n",
      "                      'who_used': {'person2': 40, 'person3': 20}},\n",
      "                  1: {'balance_deltas': {'person2': {'person3': -10},\n",
      "                                         'person3': {'person2': 10}},\n",
      "                      'id': 1,\n",
      "                      'ledger_deltas': {'person2': -10, 'person3': 10},\n",
      "                      'who_paid': {'person2': 30, 'person3': 30},\n",
      "                      'who_used': {'person2': 40, 'person3': 20}}}}\n"
     ]
    }
   ],
   "source": [
    "t6 = add_transaction(who_got_how_much={\n",
    "    'person2': 40,\n",
    "    'person3': 20,\n",
    "}, who_paid_how_much={\n",
    "    'person2': 30,\n",
    "    'person3': 30,\n",
    "})"
   ],
   "metadata": {
    "collapsed": false,
    "pycharm": {
     "name": "#%%\n"
    }
   }
  },
  {
   "cell_type": "code",
   "execution_count": 169,
   "outputs": [],
   "source": [
    "def update_transaction(t_id, who_got_how_much, who_paid_how_much):\n",
    "    # first we need to undo the transaction by performing the opposite\n",
    "    transaction = group['transactions'][t_id]\n",
    "    balance_deltas = transaction['balance_deltas']\n",
    "    ledger_deltas = transaction['ledger_deltas']\n",
    "    people_involved = balance_deltas.keys()\n",
    "    pprint(ledger_deltas)\n",
    "    for p1 in people_involved:\n",
    "        for p2 in people_involved:\n",
    "            if p1 != p2:\n",
    "                group['balances'][p1][p2] -= balance_deltas[p1][p2]\n",
    "        group['ledger'][p1] -= ledger_deltas[p1]\n",
    "\n",
    "\n",
    "    # delete the old transaction\n",
    "    group['transactions'].pop(t_id)\n",
    "\n",
    "    # create and return the new transaction\n",
    "    return add_transaction(who_got_how_much=who_got_how_much, who_paid_how_much=who_paid_how_much)"
   ],
   "metadata": {
    "collapsed": false,
    "pycharm": {
     "name": "#%%\n"
    }
   }
  },
  {
   "cell_type": "code",
   "execution_count": 170,
   "outputs": [
    {
     "name": "stdout",
     "output_type": "stream",
     "text": [
      "{'balances': {'person1': {'person2': 0, 'person3': 0},\n",
      "              'person2': {'person1': 0, 'person3': -10},\n",
      "              'person3': {'person1': 0, 'person2': 10}},\n",
      " 'ledger': {'person1': 0, 'person2': -10, 'person3': 10},\n",
      " 'people': {'person1': {'name': 'person1'},\n",
      "            'person2': {'name': 'person2'},\n",
      "            'person3': {'name': 'person3'}},\n",
      " 'transactions': {0: {'balance_deltas': {'person2': {'person3': -10},\n",
      "                                         'person3': {'person2': 10}},\n",
      "                      'id': 0,\n",
      "                      'ledger_deltas': {'person2': -10, 'person3': 10},\n",
      "                      'who_paid': {'person2': 30, 'person3': 30},\n",
      "                      'who_used': {'person2': 40, 'person3': 20}}}}\n"
     ]
    }
   ],
   "source": [
    "reset()\n",
    "t1 = add_transaction(who_got_how_much={\n",
    "    'person2': 40,\n",
    "    'person3': 20,\n",
    "}, who_paid_how_much={\n",
    "    'person2': 30,\n",
    "    'person3': 30,\n",
    "})\n"
   ],
   "metadata": {
    "collapsed": false,
    "pycharm": {
     "name": "#%%\n"
    }
   }
  },
  {
   "cell_type": "code",
   "execution_count": 171,
   "outputs": [
    {
     "name": "stdout",
     "output_type": "stream",
     "text": [
      "{'person2': -10, 'person3': 10}\n",
      "{'balances': {'person1': {'person2': 0, 'person3': 0},\n",
      "              'person2': {'person1': 0, 'person3': 10},\n",
      "              'person3': {'person1': 0, 'person2': -10}},\n",
      " 'ledger': {'person1': 0, 'person2': 10, 'person3': -10},\n",
      " 'people': {'person1': {'name': 'person1'},\n",
      "            'person2': {'name': 'person2'},\n",
      "            'person3': {'name': 'person3'}},\n",
      " 'transactions': {1: {'balance_deltas': {'person2': {'person3': 10},\n",
      "                                         'person3': {'person2': -10}},\n",
      "                      'id': 1,\n",
      "                      'ledger_deltas': {'person2': 10, 'person3': -10},\n",
      "                      'who_paid': {'person2': 30, 'person3': 30},\n",
      "                      'who_used': {'person2': 20, 'person3': 40}}}}\n"
     ]
    }
   ],
   "source": [
    "t1 = update_transaction(t1['id'],\n",
    "    who_got_how_much={\n",
    "        'person2': 20,\n",
    "        'person3': 40,\n",
    "    }, who_paid_how_much={\n",
    "        'person2': 30,\n",
    "        'person3': 30,\n",
    "    })"
   ],
   "metadata": {
    "collapsed": false,
    "pycharm": {
     "name": "#%%\n"
    }
   }
  },
  {
   "cell_type": "code",
   "execution_count": null,
   "outputs": [],
   "source": [],
   "metadata": {
    "collapsed": false,
    "pycharm": {
     "name": "#%%\n"
    }
   }
  }
 ],
 "metadata": {
  "kernelspec": {
   "display_name": "Python 3",
   "language": "python",
   "name": "python3"
  },
  "language_info": {
   "codemirror_mode": {
    "name": "ipython",
    "version": 2
   },
   "file_extension": ".py",
   "mimetype": "text/x-python",
   "name": "python",
   "nbconvert_exporter": "python",
   "pygments_lexer": "ipython2",
   "version": "2.7.6"
  }
 },
 "nbformat": 4,
 "nbformat_minor": 0
}