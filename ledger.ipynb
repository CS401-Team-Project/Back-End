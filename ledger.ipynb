{
 "cells": [
  {
   "cell_type": "code",
   "execution_count": 528,
   "outputs": [
    {
     "name": "stdout",
     "output_type": "stream",
     "text": [
      "{'person1': {'balance': 0,\n",
      "             'balances': {'owed_by': {'person2': 0, 'person3': 0},\n",
      "                          'owes': {'person2': 0, 'person3': 0}},\n",
      "             'total_owed': 0,\n",
      "             'total_owing': 0},\n",
      " 'person2': {'balance': 0,\n",
      "             'balances': {'owed_by': {'person1': 0, 'person3': 0},\n",
      "                          'owes': {'person1': 0, 'person3': 0}},\n",
      "             'total_owed': 0,\n",
      "             'total_owing': 0},\n",
      " 'person3': {'balance': 0,\n",
      "             'balances': {'owed_by': {'person1': 0, 'person2': 0},\n",
      "                          'owes': {'person1': 0, 'person2': 0}},\n",
      "             'total_owed': 0,\n",
      "             'total_owing': 0}}\n"
     ]
    }
   ],
   "source": [
    "from pprint import pprint\n",
    "import copy\n",
    "from dictdiffer import diff\n",
    "\n",
    "group = {}\n",
    "transactions = {}\n",
    "\n",
    "def normalizeGroup(dictionary: dict):\n",
    "    for p1n, p1d in dictionary.items():\n",
    "        p1d = p1d[\"balances\"]\n",
    "        for p2n, p2d in dictionary.items():\n",
    "            p2d = p2d[\"balances\"]\n",
    "            if p1n != p2n:\n",
    "                if p1n not in p2d[\"owes\"]:\n",
    "                    p2d[\"owes\"][p1n] = 0\n",
    "                if p2n not in p1d[\"owes\"]:\n",
    "                    p1d[\"owes\"][p2n] = 0\n",
    "                if p1n not in p2d[\"owed_by\"]:\n",
    "                    p2d[\"owed_by\"][p1n] = 0\n",
    "                if p2n not in p1d[\"owed_by\"]:\n",
    "                    p1d[\"owed_by\"][p2n] = 0\n",
    "\n",
    "    return dictionary\n",
    "\n",
    "\n",
    "def addPerson(name):\n",
    "    group[name] = {}\n",
    "    group[name][\"balances\"] = {\n",
    "        \"owes\": {},\n",
    "        \"owed_by\": {}\n",
    "    }\n",
    "    # add total paid by and total owed to\n",
    "    group[name][\"total_owed\"] = 0\n",
    "    group[name][\"total_owing\"] = 0\n",
    "    group[name][\"balance\"] = 0\n",
    "    normalizeGroup(group)\n",
    "\n",
    "\n",
    "def createGroup():\n",
    "    group.clear()\n",
    "    transactions.clear()\n",
    "    addPerson(\"person1\")\n",
    "    addPerson(\"person2\")\n",
    "    addPerson(\"person3\")\n",
    "\n",
    "createGroup()\n",
    "pprint(group)"
   ],
   "metadata": {
    "collapsed": false,
    "pycharm": {
     "name": "#%%\n"
    }
   }
  },
  {
   "cell_type": "code",
   "execution_count": 529,
   "outputs": [],
   "source": [
    "def add_transaction(who_got_how_much, who_paid_how_much):\n",
    "    # the transaction total is the sum of all the values in the who_got_how_much\n",
    "    transaction_total = sum(who_got_how_much.values())\n",
    "    pay_total = sum(who_paid_how_much.values())\n",
    "\n",
    "    # the transaction total must equal the sum of the values in the who_paid_how_much\n",
    "    if pay_total != transaction_total:\n",
    "        raise Exception(f\"ERROR: pay total {pay_total} does not equal transaction total {transaction_total}\")\n",
    "\n",
    "    transaction = {\"who_got_how_much\": who_got_how_much,\n",
    "                   \"who_paid_how_much\": who_paid_how_much,\n",
    "                   \"transaction_total\": transaction_total,\n",
    "                   \"pay_total\": pay_total,\n",
    "                   \"prior_state\": {}}\n",
    "\n",
    "    # copy the group's previous state from the previous transaction\n",
    "    if len(transactions) > 0:\n",
    "        transaction[\"prior_state\"] = transactions[-1][\"prior_state\"].copy()\n",
    "    else:\n",
    "        for person in group:\n",
    "            transaction[\"prior_state\"][person] = copy.deepcopy(group[person])\n",
    "\n",
    "    g1 = copy.deepcopy(transaction[\"prior_state\"])\n",
    "    # print(\"=\" * 80)\n",
    "    # print(\"# Prior State:\")\n",
    "    # pprint(g1)\n",
    "    prior_state = transaction[\"prior_state\"]\n",
    "    for p1, owing in who_got_how_much.items():\n",
    "        for p2, amt_paid in who_paid_how_much.items():\n",
    "\n",
    "            if p1 != p2:\n",
    "                value = amt_paid / transaction_total * owing\n",
    "\n",
    "                transaction[\"prior_state\"][p1][\"balances\"][\"owes\"][p2] += value\n",
    "                transaction[\"prior_state\"][p2][\"balances\"][\"owed_by\"][p1] += value\n",
    "\n",
    "    # Calculate the total owing, total owed, and balance for each person\n",
    "    for p, v in transaction[\"prior_state\"].items():\n",
    "        transaction[\"prior_state\"][p][\"total_owing\"] = sum(v[\"balances\"][\"owes\"].values())\n",
    "        transaction[\"prior_state\"][p][\"total_owed\"] = sum(v[\"balances\"][\"owed_by\"].values())\n",
    "        transaction[\"prior_state\"][p][\"balance\"] = transaction[\"prior_state\"][p][\"total_owed\"] - transaction[\"prior_state\"][p][\"total_owing\"]\n",
    "\n",
    "    g2 = copy.deepcopy(transaction[\"prior_state\"])\n",
    "\n",
    "    print(\"-\" * 80)\n",
    "    print(\"# New State (Only print what's changed):\")\n",
    "    # pprint(g2)\n",
    "    # Only print the fields in the new state that have changed from the group's prior state\n",
    "    for person in group:\n",
    "        diff_dict = list(diff(g1[person], g2[person]))\n",
    "        if len(diff_dict) > 0:\n",
    "            print(f\"{person}:\")\n",
    "            for d in diff_dict:\n",
    "                print(f\"\\t => {d}\")\n",
    "\n",
    "    # Update the group's balances with the new state\n",
    "    group.update(transaction[\"prior_state\"])\n",
    "    return transaction"
   ],
   "metadata": {
    "collapsed": false,
    "pycharm": {
     "name": "#%%\n"
    }
   }
  },
  {
   "cell_type": "code",
   "execution_count": 530,
   "outputs": [
    {
     "name": "stdout",
     "output_type": "stream",
     "text": [
      "--------------------------------------------------------------------------------\n",
      "# New State (Only print what's changed):\n"
     ]
    }
   ],
   "source": [
    "t1 = add_transaction(who_got_how_much={\n",
    "    'person1': 20,\n",
    "}, who_paid_how_much={\n",
    "    'person1': 20,\n",
    "})"
   ],
   "metadata": {
    "collapsed": false,
    "pycharm": {
     "name": "#%%\n"
    }
   }
  },
  {
   "cell_type": "code",
   "execution_count": 531,
   "outputs": [
    {
     "name": "stdout",
     "output_type": "stream",
     "text": [
      "--------------------------------------------------------------------------------\n",
      "# New State (Only print what's changed):\n",
      "person1:\n",
      "\t => ('change', 'balances.owes.person2', (0, 20.0))\n",
      "\t => ('change', 'total_owing', (0, 20.0))\n",
      "\t => ('change', 'balance', (0, -20.0))\n",
      "person2:\n",
      "\t => ('change', 'balances.owed_by.person1', (0, 20.0))\n",
      "\t => ('change', 'total_owed', (0, 20.0))\n",
      "\t => ('change', 'balance', (0, 20.0))\n"
     ]
    }
   ],
   "source": [
    "t2 = add_transaction(who_got_how_much={\n",
    "    'person1': 20,\n",
    "}, who_paid_how_much={\n",
    "    'person2': 20,\n",
    "})"
   ],
   "metadata": {
    "collapsed": false,
    "pycharm": {
     "name": "#%%\n"
    }
   }
  },
  {
   "cell_type": "code",
   "execution_count": 532,
   "outputs": [
    {
     "name": "stdout",
     "output_type": "stream",
     "text": [
      "--------------------------------------------------------------------------------\n",
      "# New State (Only print what's changed):\n",
      "person1:\n",
      "\t => ('change', 'balances.owed_by.person2', (0, 20.0))\n",
      "\t => ('change', 'total_owed', (0, 20.0))\n",
      "\t => ('change', 'balance', (-20.0, 0.0))\n",
      "person2:\n",
      "\t => ('change', 'balances.owes.person1', (0, 20.0))\n",
      "\t => ('change', 'total_owing', (0, 20.0))\n",
      "\t => ('change', 'balance', (20.0, 0.0))\n"
     ]
    }
   ],
   "source": [
    "# TODO: Look at this case to basically clear out the owed by and owes fields\n",
    "# but the catch is that it needs to be generalized enough to handle if the values are not exactly the same\n",
    "# (aka in those cases perhaps not clear out but subtract)\n",
    "t2 = add_transaction(who_got_how_much={\n",
    "    'person2': 20,\n",
    "}, who_paid_how_much={\n",
    "    'person1': 20,\n",
    "})"
   ],
   "metadata": {
    "collapsed": false,
    "pycharm": {
     "name": "#%%\n"
    }
   }
  },
  {
   "cell_type": "code",
   "execution_count": 533,
   "outputs": [
    {
     "name": "stdout",
     "output_type": "stream",
     "text": [
      "{'person1': {'balance': 0.0,\n",
      "             'balances': {'owed_by': {'person2': 20.0, 'person3': 0},\n",
      "                          'owes': {'person2': 20.0, 'person3': 0}},\n",
      "             'total_owed': 20.0,\n",
      "             'total_owing': 20.0},\n",
      " 'person2': {'balance': 0.0,\n",
      "             'balances': {'owed_by': {'person1': 20.0, 'person3': 0},\n",
      "                          'owes': {'person1': 20.0, 'person3': 0}},\n",
      "             'total_owed': 20.0,\n",
      "             'total_owing': 20.0},\n",
      " 'person3': {'balance': 0,\n",
      "             'balances': {'owed_by': {'person1': 0, 'person2': 0},\n",
      "                          'owes': {'person1': 0, 'person2': 0}},\n",
      "             'total_owed': 0,\n",
      "             'total_owing': 0}}\n"
     ]
    }
   ],
   "source": [
    "pprint(group)"
   ],
   "metadata": {
    "collapsed": false,
    "pycharm": {
     "name": "#%%\n"
    }
   }
  },
  {
   "cell_type": "code",
   "execution_count": 534,
   "outputs": [
    {
     "name": "stdout",
     "output_type": "stream",
     "text": [
      "--------------------------------------------------------------------------------\n",
      "# New State (Only print what's changed):\n",
      "person1:\n",
      "\t => ('change', 'balances.owes.person2', (20.0, 30.0))\n",
      "\t => ('change', 'balances.owes.person3', (0, 10.0))\n",
      "\t => ('change', 'total_owing', (20.0, 40.0))\n",
      "\t => ('change', 'balance', (0.0, -20.0))\n",
      "person2:\n",
      "\t => ('change', 'balances.owed_by.person1', (20.0, 30.0))\n",
      "\t => ('change', 'total_owed', (20.0, 30.0))\n",
      "\t => ('change', 'balance', (0.0, 10.0))\n",
      "person3:\n",
      "\t => ('change', 'balances.owed_by.person1', (0, 10.0))\n",
      "\t => ('change', 'total_owed', (0, 10.0))\n",
      "\t => ('change', 'balance', (0, 10.0))\n"
     ]
    }
   ],
   "source": [
    "t3 = add_transaction(who_got_how_much={\n",
    "    'person1': 20,\n",
    "}, who_paid_how_much={\n",
    "    'person2': 10,\n",
    "    'person3': 10,\n",
    "})"
   ],
   "metadata": {
    "collapsed": false,
    "pycharm": {
     "name": "#%%\n"
    }
   }
  },
  {
   "cell_type": "code",
   "execution_count": 535,
   "outputs": [
    {
     "name": "stdout",
     "output_type": "stream",
     "text": [
      "--------------------------------------------------------------------------------\n",
      "# New State (Only print what's changed):\n",
      "person1:\n",
      "\t => ('change', 'balances.owed_by.person3', (0, 10.0))\n",
      "\t => ('change', 'total_owed', (20.0, 30.0))\n",
      "\t => ('change', 'balance', (-20.0, -10.0))\n",
      "person3:\n",
      "\t => ('change', 'balances.owes.person1', (0, 10.0))\n",
      "\t => ('change', 'total_owing', (0, 10.0))\n",
      "\t => ('change', 'balance', (10.0, 0.0))\n"
     ]
    }
   ],
   "source": [
    "t4 = add_transaction(who_got_how_much={\n",
    "    'person1': 10,\n",
    "    'person3': 10,\n",
    "}, who_paid_how_much={\n",
    "    'person1': 20,\n",
    "})"
   ],
   "metadata": {
    "collapsed": false,
    "pycharm": {
     "name": "#%%\n"
    }
   }
  },
  {
   "cell_type": "code",
   "execution_count": 536,
   "outputs": [
    {
     "name": "stdout",
     "output_type": "stream",
     "text": [
      "--------------------------------------------------------------------------------\n",
      "# New State (Only print what's changed):\n"
     ]
    }
   ],
   "source": [
    "t5 = add_transaction(who_got_how_much={\n",
    "    'person2': 30,\n",
    "}, who_paid_how_much={\n",
    "    'person2': 30,\n",
    "})"
   ],
   "metadata": {
    "collapsed": false,
    "pycharm": {
     "name": "#%%\n"
    }
   }
  },
  {
   "cell_type": "code",
   "execution_count": 537,
   "outputs": [
    {
     "name": "stdout",
     "output_type": "stream",
     "text": [
      "--------------------------------------------------------------------------------\n",
      "# New State (Only print what's changed):\n",
      "person2:\n",
      "\t => ('change', 'balances.owes.person3', (0, 15.0))\n",
      "\t => ('change', 'balances.owed_by.person3', (0, 15.0))\n",
      "\t => ('change', 'total_owed', (30.0, 45.0))\n",
      "\t => ('change', 'total_owing', (20.0, 35.0))\n",
      "person3:\n",
      "\t => ('change', 'balances.owes.person2', (0, 15.0))\n",
      "\t => ('change', 'balances.owed_by.person2', (0, 15.0))\n",
      "\t => ('change', 'total_owed', (10.0, 25.0))\n",
      "\t => ('change', 'total_owing', (10.0, 25.0))\n"
     ]
    }
   ],
   "source": [
    "t5 = add_transaction(who_got_how_much={\n",
    "    'person2': 30,\n",
    "    'person3': 30,\n",
    "}, who_paid_how_much={\n",
    "    'person2': 30,\n",
    "    'person3': 30,\n",
    "})"
   ],
   "metadata": {
    "collapsed": false,
    "pycharm": {
     "name": "#%%\n"
    }
   }
  }
 ],
 "metadata": {
  "kernelspec": {
   "display_name": "Python 3",
   "language": "python",
   "name": "python3"
  },
  "language_info": {
   "codemirror_mode": {
    "name": "ipython",
    "version": 2
   },
   "file_extension": ".py",
   "mimetype": "text/x-python",
   "name": "python",
   "nbconvert_exporter": "python",
   "pygments_lexer": "ipython2",
   "version": "2.7.6"
  }
 },
 "nbformat": 4,
 "nbformat_minor": 0
}