{
 "cells": [
  {
   "cell_type": "code",
   "execution_count": 350,
   "outputs": [
    {
     "name": "stdout",
     "output_type": "stream",
     "text": [
      "{'person1': {'balance': 0,\n",
      "             'balances': {'owed_by': {'person2': 0, 'person3': 0},\n",
      "                          'owes': {'person2': 0, 'person3': 0}},\n",
      "             'total_owed': 0,\n",
      "             'total_owing': 0},\n",
      " 'person2': {'balance': 0,\n",
      "             'balances': {'owed_by': {'person1': 0, 'person3': 0},\n",
      "                          'owes': {'person1': 0, 'person3': 0}},\n",
      "             'total_owed': 0,\n",
      "             'total_owing': 0},\n",
      " 'person3': {'balance': 0,\n",
      "             'balances': {'owed_by': {'person1': 0, 'person2': 0},\n",
      "                          'owes': {'person1': 0, 'person2': 0}},\n",
      "             'total_owed': 0,\n",
      "             'total_owing': 0}}\n"
     ]
    }
   ],
   "source": [
    "from pprint import pprint\n",
    "import copy\n",
    "from dictdiffer import diff\n",
    "\n",
    "group = {}\n",
    "transactions = {}\n",
    "\n",
    "def normalizeGroup(dictionary: dict):\n",
    "    for p1n, p1d in dictionary.items():\n",
    "        p1d = p1d[\"balances\"]\n",
    "        for p2n, p2d in dictionary.items():\n",
    "            p2d = p2d[\"balances\"]\n",
    "            if p1n != p2n:\n",
    "                if p1n not in p2d[\"owes\"]:\n",
    "                    p2d[\"owes\"][p1n] = 0\n",
    "                if p2n not in p1d[\"owes\"]:\n",
    "                    p1d[\"owes\"][p2n] = 0\n",
    "                if p1n not in p2d[\"owed_by\"]:\n",
    "                    p2d[\"owed_by\"][p1n] = 0\n",
    "                if p2n not in p1d[\"owed_by\"]:\n",
    "                    p1d[\"owed_by\"][p2n] = 0\n",
    "\n",
    "    return dictionary\n",
    "\n",
    "\n",
    "def addPerson(name):\n",
    "    group[name] = {}\n",
    "    group[name][\"balances\"] = {\n",
    "        \"owes\": {},\n",
    "        \"owed_by\": {}\n",
    "    }\n",
    "    # add total paid by and total owed to\n",
    "    group[name][\"total_owed\"] = 0\n",
    "    group[name][\"total_owing\"] = 0\n",
    "    group[name][\"balance\"] = 0\n",
    "    normalizeGroup(group)\n",
    "\n",
    "def createGroup():\n",
    "    group.clear()\n",
    "    transactions.clear()\n",
    "    addPerson(\"person1\")\n",
    "    addPerson(\"person2\")\n",
    "    addPerson(\"person3\")\n",
    "\n",
    "def printGroup():\n",
    "    for person, data in group.items():\n",
    "        print(f\"{person.upper()}: [Balance: {data['balance']}]\")\n",
    "        print(f\"\\tOwes to others: [{data['total_owed']}]\")\n",
    "        for owes, amount in data[\"balances\"][\"owes\"].items():\n",
    "            print(f\"\\t\\t-> {owes}: {amount}\")\n",
    "        print(f\"\\tOwed by others: [{data['total_owed']}]\")\n",
    "        for owed_by, amount in data[\"balances\"][\"owed_by\"].items():\n",
    "            print(f\"\\t\\t-> {owed_by}: {amount}\")\n",
    "\n",
    "createGroup()\n",
    "pprint(group)"
   ],
   "metadata": {
    "collapsed": false,
    "pycharm": {
     "name": "#%%\n"
    }
   }
  },
  {
   "cell_type": "code",
   "execution_count": 351,
   "outputs": [
    {
     "name": "stdout",
     "output_type": "stream",
     "text": [
      "PERSON1: [Balance: 0]\n",
      "\tOwes to others: [0]\n",
      "\t\t-> person2: 0\n",
      "\t\t-> person3: 0\n",
      "\tOwed by others: [0]\n",
      "\t\t-> person2: 0\n",
      "\t\t-> person3: 0\n",
      "PERSON2: [Balance: 0]\n",
      "\tOwes to others: [0]\n",
      "\t\t-> person1: 0\n",
      "\t\t-> person3: 0\n",
      "\tOwed by others: [0]\n",
      "\t\t-> person1: 0\n",
      "\t\t-> person3: 0\n",
      "PERSON3: [Balance: 0]\n",
      "\tOwes to others: [0]\n",
      "\t\t-> person1: 0\n",
      "\t\t-> person2: 0\n",
      "\tOwed by others: [0]\n",
      "\t\t-> person1: 0\n",
      "\t\t-> person2: 0\n"
     ]
    }
   ],
   "source": [
    "printGroup()"
   ],
   "metadata": {
    "collapsed": false,
    "pycharm": {
     "name": "#%%\n"
    }
   }
  },
  {
   "cell_type": "code",
   "execution_count": 352,
   "outputs": [],
   "source": [
    "def add_transaction(who_got_how_much, who_paid_how_much):\n",
    "    # the transaction total is the sum of all the values in the who_got_how_much\n",
    "    transaction_total = sum(who_got_how_much.values())\n",
    "    pay_total = sum(who_paid_how_much.values())\n",
    "\n",
    "    # the transaction total must equal the sum of the values in the who_paid_how_much\n",
    "    if pay_total != transaction_total:\n",
    "        raise Exception(f\"ERROR: pay total {pay_total} does not equal transaction total {transaction_total}\")\n",
    "\n",
    "    transaction = {\"who_got_how_much\": who_got_how_much,\n",
    "                   \"who_paid_how_much\": who_paid_how_much,\n",
    "                   \"transaction_total\": transaction_total,\n",
    "                   \"pay_total\": pay_total,\n",
    "                   \"prior_state\": {}}\n",
    "\n",
    "    # copy the group's previous state from the previous transaction\n",
    "    if len(transactions) > 0:\n",
    "        transaction[\"prior_state\"] = transactions[-1][\"prior_state\"].copy()\n",
    "    else:\n",
    "        for person in group:\n",
    "            transaction[\"prior_state\"][person] = copy.deepcopy(group[person])\n",
    "\n",
    "    g1 = copy.deepcopy(transaction[\"prior_state\"])\n",
    "    # print(\"=\" * 80)\n",
    "    # print(\"# Prior State:\")\n",
    "    # pprint(g1)\n",
    "    prior_state = transaction[\"prior_state\"]\n",
    "    for p1, owing in who_got_how_much.items():\n",
    "        for p2, amt_paid in who_paid_how_much.items():\n",
    "\n",
    "            if p1 != p2:\n",
    "                value = amt_paid / transaction_total * owing\n",
    "\n",
    "                transaction[\"prior_state\"][p1][\"balances\"][\"owes\"][p2] += value\n",
    "                transaction[\"prior_state\"][p2][\"balances\"][\"owed_by\"][p1] += value\n",
    "\n",
    "                owes = transaction[\"prior_state\"][p1][\"balances\"][\"owes\"][p2]\n",
    "                owed_by = transaction[\"prior_state\"][p2][\"balances\"][\"owed_by\"][p1]\n",
    "                owes_minus_owed_by = owes - owed_by\n",
    "\n",
    "    # Calculate the total owing, total owed, and balance for each person\n",
    "    for p, v in transaction[\"prior_state\"].items():\n",
    "        # for each person, calculate the new owed and owed by taking the difference and set it to the owes and owed_by depending on the sign\n",
    "        for p1 in v[\"balances\"][\"owes\"]:\n",
    "            owes = v[\"balances\"][\"owes\"][p1]\n",
    "            owed_by = v[\"balances\"][\"owed_by\"][p1]\n",
    "            owes_minus_owed_by = owes - owed_by\n",
    "            if owes_minus_owed_by > 0:\n",
    "                v[\"balances\"][\"owes\"][p1] = owes_minus_owed_by\n",
    "                v[\"balances\"][\"owed_by\"][p1] = 0\n",
    "            elif owes_minus_owed_by < 0:\n",
    "                v[\"balances\"][\"owes\"][p1] = 0\n",
    "                v[\"balances\"][\"owed_by\"][p1] = -owes_minus_owed_by\n",
    "            else:\n",
    "                v[\"balances\"][\"owes\"][p1] = 0\n",
    "                v[\"balances\"][\"owed_by\"][p1] = 0\n",
    "\n",
    "        transaction[\"prior_state\"][p][\"total_owing\"] = sum(v[\"balances\"][\"owes\"].values())\n",
    "        transaction[\"prior_state\"][p][\"total_owed\"] = sum(v[\"balances\"][\"owed_by\"].values())\n",
    "        transaction[\"prior_state\"][p][\"balance\"] = transaction[\"prior_state\"][p][\"total_owed\"] - transaction[\"prior_state\"][p][\"total_owing\"]\n",
    "\n",
    "    def get_diff():\n",
    "        g2 = copy.deepcopy(transaction[\"prior_state\"])\n",
    "        # pprint(g2)\n",
    "        # Only print the fields in the new state that have changed from the group's prior state\n",
    "        difference = \"\"\n",
    "        for person in group:\n",
    "            diff_dict = list(diff(g1[person], g2[person]))\n",
    "            if len(diff_dict) > 0:\n",
    "                difference += f\"{person.upper()}:\\n\"\n",
    "                for d in diff_dict:\n",
    "                    d3 = d[2][1] - d[2][0]\n",
    "                    info = \"[=]\"\n",
    "                    if d3 > 0:\n",
    "                        info = \"+\"\n",
    "                    elif d3 < 0:\n",
    "                        info = \"-\"\n",
    "                    difference += f\"\\t[{info}] {d}\\n\"\n",
    "            else:\n",
    "                difference += f\"{person}: No change\\n\"\n",
    "        return difference\n",
    "\n",
    "    # Update the group's balances with the new state\n",
    "    group.update(transaction[\"prior_state\"])\n",
    "    return get_diff()\n",
    "\n",
    "def assertDiff(diff_expected, diff_actual, printFull=False):\n",
    "    if printFull:\n",
    "        print(\"=\" * 80)\n",
    "        print(\"# True Diff:\")\n",
    "        print(diff_expected)\n",
    "        print(\"=\" * 80)\n",
    "        print(\"# Actual Diff:\")\n",
    "        print(diff_actual)\n",
    "        print(\"=\" * 80)\n",
    "\n",
    "    def cmp_helper(exp, act):\n",
    "        de = exp.split(\"\\n\")\n",
    "        da = act.split(\"\\n\")\n",
    "        for i in range(len(de)):\n",
    "            if de[i] != da[i]:\n",
    "                print(f\"ERROR: (Expected) `{de[i]}` != `{da[i]}` (Actual)\")\n",
    "                return False\n",
    "        return True\n",
    "\n",
    "    assert cmp_helper(diff_expected, diff_actual)\n",
    "    print(\"PASSED!!!\")"
   ],
   "metadata": {
    "collapsed": false,
    "pycharm": {
     "name": "#%%\n"
    }
   }
  },
  {
   "cell_type": "code",
   "execution_count": 353,
   "outputs": [
    {
     "name": "stdout",
     "output_type": "stream",
     "text": [
      "PASSED!!!\n"
     ]
    }
   ],
   "source": [
    "t = add_transaction(who_got_how_much={\n",
    "    'person1': 20,\n",
    "}, who_paid_how_much={\n",
    "    'person1': 20,\n",
    "})\n",
    "t_correct = \"\"\"person1: No change\n",
    "person2: No change\n",
    "person3: No change\n",
    "\"\"\"\n",
    "assertDiff(t_correct, t)"
   ],
   "metadata": {
    "collapsed": false,
    "pycharm": {
     "name": "#%%\n"
    }
   }
  },
  {
   "cell_type": "code",
   "execution_count": 354,
   "outputs": [
    {
     "name": "stdout",
     "output_type": "stream",
     "text": [
      "PASSED!!!\n"
     ]
    }
   ],
   "source": [
    "t = add_transaction(who_got_how_much={\n",
    "    'person1': 20,\n",
    "}, who_paid_how_much={\n",
    "    'person2': 20,\n",
    "})\n",
    "t_correct = \"\"\"PERSON1:\n",
    "\t[+] ('change', 'balances.owes.person2', (0, 20.0))\n",
    "\t[+] ('change', 'total_owing', (0, 20.0))\n",
    "\t[-] ('change', 'balance', (0, -20.0))\n",
    "PERSON2:\n",
    "\t[+] ('change', 'balances.owed_by.person1', (0, 20.0))\n",
    "\t[+] ('change', 'total_owed', (0, 20.0))\n",
    "\t[+] ('change', 'balance', (0, 20.0))\n",
    "person3: No change\n",
    "\"\"\"\n",
    "assertDiff(t_correct, t)"
   ],
   "metadata": {
    "collapsed": false,
    "pycharm": {
     "name": "#%%\n"
    }
   }
  },
  {
   "cell_type": "code",
   "execution_count": 355,
   "outputs": [],
   "source": [
    "t = add_transaction(who_got_how_much={\n",
    "    'person2': 20,\n",
    "}, who_paid_how_much={\n",
    "    'person1': 20,\n",
    "})"
   ],
   "metadata": {
    "collapsed": false,
    "pycharm": {
     "name": "#%%\n"
    }
   }
  },
  {
   "cell_type": "code",
   "execution_count": 356,
   "outputs": [],
   "source": [
    "t = add_transaction(who_got_how_much={\n",
    "    'person1': 20,\n",
    "}, who_paid_how_much={\n",
    "    'person2': 10,\n",
    "    'person3': 10,\n",
    "})"
   ],
   "metadata": {
    "collapsed": false,
    "pycharm": {
     "name": "#%%\n"
    }
   }
  },
  {
   "cell_type": "code",
   "execution_count": 357,
   "outputs": [],
   "source": [
    "t = add_transaction(who_got_how_much={\n",
    "    'person2': 10,\n",
    "    'person3': 10,\n",
    "}, who_paid_how_much={\n",
    "    'person1': 20,\n",
    "})"
   ],
   "metadata": {
    "collapsed": false,
    "pycharm": {
     "name": "#%%\n"
    }
   }
  },
  {
   "cell_type": "code",
   "execution_count": 358,
   "outputs": [],
   "source": [
    "t = add_transaction(who_got_how_much={\n",
    "    'person2': 30,\n",
    "}, who_paid_how_much={\n",
    "    'person2': 30,\n",
    "})"
   ],
   "metadata": {
    "collapsed": false,
    "pycharm": {
     "name": "#%%\n"
    }
   }
  },
  {
   "cell_type": "code",
   "execution_count": 359,
   "outputs": [],
   "source": [
    "t = add_transaction(who_got_how_much={\n",
    "    'person2': 30,\n",
    "    'person3': 30,\n",
    "}, who_paid_how_much={\n",
    "    'person2': 30,\n",
    "    'person3': 30,\n",
    "})"
   ],
   "metadata": {
    "collapsed": false,
    "pycharm": {
     "name": "#%%\n"
    }
   }
  }
 ],
 "metadata": {
  "kernelspec": {
   "display_name": "Python 3",
   "language": "python",
   "name": "python3"
  },
  "language_info": {
   "codemirror_mode": {
    "name": "ipython",
    "version": 2
   },
   "file_extension": ".py",
   "mimetype": "text/x-python",
   "name": "python",
   "nbconvert_exporter": "python",
   "pygments_lexer": "ipython2",
   "version": "2.7.6"
  }
 },
 "nbformat": 4,
 "nbformat_minor": 0
}